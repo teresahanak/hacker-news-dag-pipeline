{
 "cells": [
  {
   "cell_type": "code",
   "execution_count": 7,
   "id": "8b10015d",
   "metadata": {},
   "outputs": [
    {
     "name": "stdout",
     "output_type": "stream",
     "text": [
      "The nb_black extension is already loaded. To reload it, use:\n",
      "  %reload_ext nb_black\n"
     ]
    },
    {
     "data": {
      "application/javascript": [
       "\n",
       "            setTimeout(function() {\n",
       "                var nbb_cell_id = 7;\n",
       "                var nbb_unformatted_code = \"%load_ext nb_black\\n\\nfrom pipeline import Pipeline\\nimport json\\nfrom pipeline import build_csv\\nimport io\\nimport datetime\\nimport string\";\n",
       "                var nbb_formatted_code = \"%load_ext nb_black\\n\\nfrom pipeline import Pipeline\\nimport json\\nfrom pipeline import build_csv\\nimport io\\nimport datetime\\nimport string\";\n",
       "                var nbb_cells = Jupyter.notebook.get_cells();\n",
       "                for (var i = 0; i < nbb_cells.length; ++i) {\n",
       "                    if (nbb_cells[i].input_prompt_number == nbb_cell_id) {\n",
       "                        if (nbb_cells[i].get_text() == nbb_unformatted_code) {\n",
       "                             nbb_cells[i].set_text(nbb_formatted_code);\n",
       "                        }\n",
       "                        break;\n",
       "                    }\n",
       "                }\n",
       "            }, 500);\n",
       "            "
      ],
      "text/plain": [
       "<IPython.core.display.Javascript object>"
      ]
     },
     "metadata": {},
     "output_type": "display_data"
    }
   ],
   "source": [
    "%load_ext nb_black\n",
    "\n",
    "from pipeline import Pipeline\n",
    "import json\n",
    "from pipeline import build_csv\n",
    "import io\n",
    "import datetime\n",
    "import string"
   ]
  },
  {
   "cell_type": "code",
   "execution_count": 2,
   "id": "ee6b3f0a",
   "metadata": {},
   "outputs": [
    {
     "data": {
      "application/javascript": [
       "\n",
       "            setTimeout(function() {\n",
       "                var nbb_cell_id = 2;\n",
       "                var nbb_unformatted_code = \"pipeline = Pipeline()\";\n",
       "                var nbb_formatted_code = \"pipeline = Pipeline()\";\n",
       "                var nbb_cells = Jupyter.notebook.get_cells();\n",
       "                for (var i = 0; i < nbb_cells.length; ++i) {\n",
       "                    if (nbb_cells[i].input_prompt_number == nbb_cell_id) {\n",
       "                        if (nbb_cells[i].get_text() == nbb_unformatted_code) {\n",
       "                             nbb_cells[i].set_text(nbb_formatted_code);\n",
       "                        }\n",
       "                        break;\n",
       "                    }\n",
       "                }\n",
       "            }, 500);\n",
       "            "
      ],
      "text/plain": [
       "<IPython.core.display.Javascript object>"
      ]
     },
     "metadata": {},
     "output_type": "display_data"
    }
   ],
   "source": [
    "pipeline = Pipeline()"
   ]
  },
  {
   "cell_type": "code",
   "execution_count": 3,
   "id": "0c285579",
   "metadata": {},
   "outputs": [
    {
     "data": {
      "application/javascript": [
       "\n",
       "            setTimeout(function() {\n",
       "                var nbb_cell_id = 3;\n",
       "                var nbb_unformatted_code = \"@pipeline.task()\\ndef file_to_json():\\n    with open(\\\"hn_stories_2014.json\\\") as f:\\n        stories = json.load(f)[\\\"stories\\\"]\\n    return stories\";\n",
       "                var nbb_formatted_code = \"@pipeline.task()\\ndef file_to_json():\\n    with open(\\\"hn_stories_2014.json\\\") as f:\\n        stories = json.load(f)[\\\"stories\\\"]\\n    return stories\";\n",
       "                var nbb_cells = Jupyter.notebook.get_cells();\n",
       "                for (var i = 0; i < nbb_cells.length; ++i) {\n",
       "                    if (nbb_cells[i].input_prompt_number == nbb_cell_id) {\n",
       "                        if (nbb_cells[i].get_text() == nbb_unformatted_code) {\n",
       "                             nbb_cells[i].set_text(nbb_formatted_code);\n",
       "                        }\n",
       "                        break;\n",
       "                    }\n",
       "                }\n",
       "            }, 500);\n",
       "            "
      ],
      "text/plain": [
       "<IPython.core.display.Javascript object>"
      ]
     },
     "metadata": {},
     "output_type": "display_data"
    }
   ],
   "source": [
    "@pipeline.task()\n",
    "def file_to_json():\n",
    "    with open(\"hn_stories_2014.json\") as f:\n",
    "        stories = json.load(f)[\"stories\"]\n",
    "    return stories"
   ]
  },
  {
   "cell_type": "code",
   "execution_count": 4,
   "id": "1e5d0d64",
   "metadata": {},
   "outputs": [
    {
     "data": {
      "application/javascript": [
       "\n",
       "            setTimeout(function() {\n",
       "                var nbb_cell_id = 4;\n",
       "                var nbb_unformatted_code = \"@pipeline.task(depends_on=file_to_json)\\ndef filter_stories(stories):\\n    return (\\n        story\\n        for story in stories\\n        if (story[\\\"points\\\"] > 50)\\n        and (story[\\\"comments\\\"] > 1)\\n        and not (story[\\\"title\\\"].startswith(\\\"Ask HN\\\"))\\n    )\";\n",
       "                var nbb_formatted_code = \"@pipeline.task(depends_on=file_to_json)\\ndef filter_stories(stories):\\n    return (\\n        story\\n        for story in stories\\n        if (story[\\\"points\\\"] > 50)\\n        and (story[\\\"comments\\\"] > 1)\\n        and not (story[\\\"title\\\"].startswith(\\\"Ask HN\\\"))\\n    )\";\n",
       "                var nbb_cells = Jupyter.notebook.get_cells();\n",
       "                for (var i = 0; i < nbb_cells.length; ++i) {\n",
       "                    if (nbb_cells[i].input_prompt_number == nbb_cell_id) {\n",
       "                        if (nbb_cells[i].get_text() == nbb_unformatted_code) {\n",
       "                             nbb_cells[i].set_text(nbb_formatted_code);\n",
       "                        }\n",
       "                        break;\n",
       "                    }\n",
       "                }\n",
       "            }, 500);\n",
       "            "
      ],
      "text/plain": [
       "<IPython.core.display.Javascript object>"
      ]
     },
     "metadata": {},
     "output_type": "display_data"
    }
   ],
   "source": [
    "@pipeline.task(depends_on=file_to_json)\n",
    "def filter_stories(stories):\n",
    "    return (\n",
    "        story\n",
    "        for story in stories\n",
    "        if (story[\"points\"] > 50)\n",
    "        and (story[\"comments\"] > 1)\n",
    "        and not (story[\"title\"].startswith(\"Ask HN\"))\n",
    "    )"
   ]
  },
  {
   "cell_type": "code",
   "execution_count": 5,
   "id": "003e64c0",
   "metadata": {},
   "outputs": [
    {
     "data": {
      "application/javascript": [
       "\n",
       "            setTimeout(function() {\n",
       "                var nbb_cell_id = 5;\n",
       "                var nbb_unformatted_code = \"@pipeline.task(depends_on=filter_stories)\\ndef json_to_csv(stories):\\n    stories = [\\n        [\\n            story[\\\"objectID\\\"],\\n            datetime.datetime.fromiso(story[\\\"created_at\\\"]),\\n            story[\\\"url\\\"],\\n            story[\\\"points\\\"],\\n            story[\\\"title\\\"],\\n        ]\\n        for story in stories\\n    ]\\n    return build_csv(\\n        stories,\\n        header=[\\\"objectID\\\", \\\"created_at\\\", \\\"url\\\", \\\"points\\\", \\\"title\\\"],\\n        file=io.StringIO(),\\n    )\";\n",
       "                var nbb_formatted_code = \"@pipeline.task(depends_on=filter_stories)\\ndef json_to_csv(stories):\\n    stories = [\\n        [\\n            story[\\\"objectID\\\"],\\n            datetime.datetime.fromiso(story[\\\"created_at\\\"]),\\n            story[\\\"url\\\"],\\n            story[\\\"points\\\"],\\n            story[\\\"title\\\"],\\n        ]\\n        for story in stories\\n    ]\\n    return build_csv(\\n        stories,\\n        header=[\\\"objectID\\\", \\\"created_at\\\", \\\"url\\\", \\\"points\\\", \\\"title\\\"],\\n        file=io.StringIO(),\\n    )\";\n",
       "                var nbb_cells = Jupyter.notebook.get_cells();\n",
       "                for (var i = 0; i < nbb_cells.length; ++i) {\n",
       "                    if (nbb_cells[i].input_prompt_number == nbb_cell_id) {\n",
       "                        if (nbb_cells[i].get_text() == nbb_unformatted_code) {\n",
       "                             nbb_cells[i].set_text(nbb_formatted_code);\n",
       "                        }\n",
       "                        break;\n",
       "                    }\n",
       "                }\n",
       "            }, 500);\n",
       "            "
      ],
      "text/plain": [
       "<IPython.core.display.Javascript object>"
      ]
     },
     "metadata": {},
     "output_type": "display_data"
    }
   ],
   "source": [
    "@pipeline.task(depends_on=filter_stories)\n",
    "def json_to_csv(stories):\n",
    "    stories = [\n",
    "        [\n",
    "            story[\"objectID\"],\n",
    "            datetime.datetime.fromiso(story[\"created_at\"]),\n",
    "            story[\"url\"],\n",
    "            story[\"points\"],\n",
    "            story[\"title\"],\n",
    "        ]\n",
    "        for story in stories\n",
    "    ]\n",
    "    return build_csv(\n",
    "        stories,\n",
    "        header=[\"objectID\", \"created_at\", \"url\", \"points\", \"title\"],\n",
    "        file=io.StringIO(),\n",
    "    )"
   ]
  },
  {
   "cell_type": "code",
   "execution_count": 6,
   "id": "c6e4d58c",
   "metadata": {},
   "outputs": [
    {
     "data": {
      "application/javascript": [
       "\n",
       "            setTimeout(function() {\n",
       "                var nbb_cell_id = 6;\n",
       "                var nbb_unformatted_code = \"@pipeline.task(depends_on=filter_stories)\\ndef extract_titles(csv_file):\\n    reader = csv.reader(csv_file)\\n    header = next(reader)\\n    idx = header.index('title')\\n    return (story[idx] for story in reader)\";\n",
       "                var nbb_formatted_code = \"@pipeline.task(depends_on=filter_stories)\\ndef extract_titles(csv_file):\\n    reader = csv.reader(csv_file)\\n    header = next(reader)\\n    idx = header.index(\\\"title\\\")\\n    return (story[idx] for story in reader)\";\n",
       "                var nbb_cells = Jupyter.notebook.get_cells();\n",
       "                for (var i = 0; i < nbb_cells.length; ++i) {\n",
       "                    if (nbb_cells[i].input_prompt_number == nbb_cell_id) {\n",
       "                        if (nbb_cells[i].get_text() == nbb_unformatted_code) {\n",
       "                             nbb_cells[i].set_text(nbb_formatted_code);\n",
       "                        }\n",
       "                        break;\n",
       "                    }\n",
       "                }\n",
       "            }, 500);\n",
       "            "
      ],
      "text/plain": [
       "<IPython.core.display.Javascript object>"
      ]
     },
     "metadata": {},
     "output_type": "display_data"
    }
   ],
   "source": [
    "@pipeline.task(depends_on=filter_stories)\n",
    "def extract_titles(csv_file):\n",
    "    reader = csv.reader(csv_file)\n",
    "    header = next(reader)\n",
    "    idx = header.index(\"title\")\n",
    "    return (story[idx] for story in reader)"
   ]
  },
  {
   "cell_type": "code",
   "execution_count": 25,
   "id": "7c7f25c3",
   "metadata": {},
   "outputs": [
    {
     "data": {
      "application/javascript": [
       "\n",
       "            setTimeout(function() {\n",
       "                var nbb_cell_id = 25;\n",
       "                var nbb_unformatted_code = \"@pipeline.task(depends_on=extract_titles)\\ndef clean_titles(titles):\\n    return (title.translate(title.maketrans('','',string.punctuation)).lower() for title in titles)\";\n",
       "                var nbb_formatted_code = \"@pipeline.task(depends_on=extract_titles)\\ndef clean_titles(titles):\\n    return (\\n        title.translate(title.maketrans(\\\"\\\", \\\"\\\", string.punctuation)).lower()\\n        for title in titles\\n    )\";\n",
       "                var nbb_cells = Jupyter.notebook.get_cells();\n",
       "                for (var i = 0; i < nbb_cells.length; ++i) {\n",
       "                    if (nbb_cells[i].input_prompt_number == nbb_cell_id) {\n",
       "                        if (nbb_cells[i].get_text() == nbb_unformatted_code) {\n",
       "                             nbb_cells[i].set_text(nbb_formatted_code);\n",
       "                        }\n",
       "                        break;\n",
       "                    }\n",
       "                }\n",
       "            }, 500);\n",
       "            "
      ],
      "text/plain": [
       "<IPython.core.display.Javascript object>"
      ]
     },
     "metadata": {},
     "output_type": "display_data"
    }
   ],
   "source": [
    "@pipeline.task(depends_on=extract_titles)\n",
    "def clean_titles(titles):\n",
    "    return (\n",
    "        title.translate(title.maketrans(\"\", \"\", string.punctuation)).lower()\n",
    "        for title in titles\n",
    "    )\n",
    "\n",
    "# Alternate code\n",
    "# @pipeline.task(depends_on=extract_titles)\n",
    "# def clean_title(titles):\n",
    "#     for title in titles:\n",
    "#         title = title.lower()\n",
    "#         title = ''.join(c for c in title if c not in string.punctuation)\n",
    "#         yield title"
   ]
  },
  {
   "cell_type": "code",
   "execution_count": 22,
   "id": "4cbd05bc",
   "metadata": {},
   "outputs": [
    {
     "data": {
      "application/javascript": [
       "\n",
       "            setTimeout(function() {\n",
       "                var nbb_cell_id = 22;\n",
       "                var nbb_unformatted_code = \"x = \\\"ABC#.%$\\\"\";\n",
       "                var nbb_formatted_code = \"x = \\\"ABC#.%$\\\"\";\n",
       "                var nbb_cells = Jupyter.notebook.get_cells();\n",
       "                for (var i = 0; i < nbb_cells.length; ++i) {\n",
       "                    if (nbb_cells[i].input_prompt_number == nbb_cell_id) {\n",
       "                        if (nbb_cells[i].get_text() == nbb_unformatted_code) {\n",
       "                             nbb_cells[i].set_text(nbb_formatted_code);\n",
       "                        }\n",
       "                        break;\n",
       "                    }\n",
       "                }\n",
       "            }, 500);\n",
       "            "
      ],
      "text/plain": [
       "<IPython.core.display.Javascript object>"
      ]
     },
     "metadata": {},
     "output_type": "display_data"
    }
   ],
   "source": [
    "x = \"ABC#.%$\""
   ]
  },
  {
   "cell_type": "code",
   "execution_count": 23,
   "id": "cb4de715",
   "metadata": {},
   "outputs": [
    {
     "data": {
      "text/plain": [
       "'ABC#.%$'"
      ]
     },
     "execution_count": 23,
     "metadata": {},
     "output_type": "execute_result"
    },
    {
     "data": {
      "application/javascript": [
       "\n",
       "            setTimeout(function() {\n",
       "                var nbb_cell_id = 23;\n",
       "                var nbb_unformatted_code = \"x.strip('.%')\";\n",
       "                var nbb_formatted_code = \"x.strip(\\\".%\\\")\";\n",
       "                var nbb_cells = Jupyter.notebook.get_cells();\n",
       "                for (var i = 0; i < nbb_cells.length; ++i) {\n",
       "                    if (nbb_cells[i].input_prompt_number == nbb_cell_id) {\n",
       "                        if (nbb_cells[i].get_text() == nbb_unformatted_code) {\n",
       "                             nbb_cells[i].set_text(nbb_formatted_code);\n",
       "                        }\n",
       "                        break;\n",
       "                    }\n",
       "                }\n",
       "            }, 500);\n",
       "            "
      ],
      "text/plain": [
       "<IPython.core.display.Javascript object>"
      ]
     },
     "metadata": {},
     "output_type": "display_data"
    }
   ],
   "source": [
    "x.strip(\".%\")"
   ]
  },
  {
   "cell_type": "code",
   "execution_count": 14,
   "id": "5a6e3b2d",
   "metadata": {},
   "outputs": [
    {
     "data": {
      "text/plain": [
       "'!\"#$%&\\'()*+,-./:;<=>?@[\\\\]^_`{|}~'"
      ]
     },
     "execution_count": 14,
     "metadata": {},
     "output_type": "execute_result"
    },
    {
     "data": {
      "application/javascript": [
       "\n",
       "            setTimeout(function() {\n",
       "                var nbb_cell_id = 14;\n",
       "                var nbb_unformatted_code = \"string.punctuation\";\n",
       "                var nbb_formatted_code = \"string.punctuation\";\n",
       "                var nbb_cells = Jupyter.notebook.get_cells();\n",
       "                for (var i = 0; i < nbb_cells.length; ++i) {\n",
       "                    if (nbb_cells[i].input_prompt_number == nbb_cell_id) {\n",
       "                        if (nbb_cells[i].get_text() == nbb_unformatted_code) {\n",
       "                             nbb_cells[i].set_text(nbb_formatted_code);\n",
       "                        }\n",
       "                        break;\n",
       "                    }\n",
       "                }\n",
       "            }, 500);\n",
       "            "
      ],
      "text/plain": [
       "<IPython.core.display.Javascript object>"
      ]
     },
     "metadata": {},
     "output_type": "display_data"
    }
   ],
   "source": [
    "string.punctuation"
   ]
  },
  {
   "cell_type": "code",
   "execution_count": 24,
   "id": "a401c0fe",
   "metadata": {},
   "outputs": [
    {
     "data": {
      "text/plain": [
       "'ABC'"
      ]
     },
     "execution_count": 24,
     "metadata": {},
     "output_type": "execute_result"
    },
    {
     "data": {
      "application/javascript": [
       "\n",
       "            setTimeout(function() {\n",
       "                var nbb_cell_id = 24;\n",
       "                var nbb_unformatted_code = \"x.translate(x.maketrans('', '', string.punctuation))\";\n",
       "                var nbb_formatted_code = \"x.translate(x.maketrans(\\\"\\\", \\\"\\\", string.punctuation))\";\n",
       "                var nbb_cells = Jupyter.notebook.get_cells();\n",
       "                for (var i = 0; i < nbb_cells.length; ++i) {\n",
       "                    if (nbb_cells[i].input_prompt_number == nbb_cell_id) {\n",
       "                        if (nbb_cells[i].get_text() == nbb_unformatted_code) {\n",
       "                             nbb_cells[i].set_text(nbb_formatted_code);\n",
       "                        }\n",
       "                        break;\n",
       "                    }\n",
       "                }\n",
       "            }, 500);\n",
       "            "
      ],
      "text/plain": [
       "<IPython.core.display.Javascript object>"
      ]
     },
     "metadata": {},
     "output_type": "display_data"
    }
   ],
   "source": [
    "x.translate(x.maketrans(\"\", \"\", string.punctuation))"
   ]
  },
  {
   "cell_type": "code",
   "execution_count": null,
   "id": "4636067f",
   "metadata": {},
   "outputs": [],
   "source": []
  }
 ],
 "metadata": {
  "kernelspec": {
   "display_name": "Python 3 (ipykernel)",
   "language": "python",
   "name": "python3"
  },
  "language_info": {
   "codemirror_mode": {
    "name": "ipython",
    "version": 3
   },
   "file_extension": ".py",
   "mimetype": "text/x-python",
   "name": "python",
   "nbconvert_exporter": "python",
   "pygments_lexer": "ipython3",
   "version": "3.9.12"
  }
 },
 "nbformat": 4,
 "nbformat_minor": 5
}
