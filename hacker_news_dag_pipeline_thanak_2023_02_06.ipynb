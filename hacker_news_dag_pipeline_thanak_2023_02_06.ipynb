{
 "cells": [
  {
   "cell_type": "code",
   "execution_count": 1,
   "id": "8b10015d",
   "metadata": {},
   "outputs": [
    {
     "data": {
      "application/javascript": [
       "\n",
       "            setTimeout(function() {\n",
       "                var nbb_cell_id = 1;\n",
       "                var nbb_unformatted_code = \"%load_ext nb_black\\n\\nfrom pipeline import Pipeline\\nimport json\\nimport csv\\nfrom pipeline import build_csv\\nimport io\\nimport datetime\\nimport string\";\n",
       "                var nbb_formatted_code = \"%load_ext nb_black\\n\\nfrom pipeline import Pipeline\\nimport json\\nimport csv\\nfrom pipeline import build_csv\\nimport io\\nimport datetime\\nimport string\";\n",
       "                var nbb_cells = Jupyter.notebook.get_cells();\n",
       "                for (var i = 0; i < nbb_cells.length; ++i) {\n",
       "                    if (nbb_cells[i].input_prompt_number == nbb_cell_id) {\n",
       "                        if (nbb_cells[i].get_text() == nbb_unformatted_code) {\n",
       "                             nbb_cells[i].set_text(nbb_formatted_code);\n",
       "                        }\n",
       "                        break;\n",
       "                    }\n",
       "                }\n",
       "            }, 500);\n",
       "            "
      ],
      "text/plain": [
       "<IPython.core.display.Javascript object>"
      ]
     },
     "metadata": {},
     "output_type": "display_data"
    }
   ],
   "source": [
    "%load_ext nb_black\n",
    "\n",
    "from pipeline import Pipeline\n",
    "import json\n",
    "import csv\n",
    "from pipeline import build_csv\n",
    "import io\n",
    "import datetime\n",
    "import string"
   ]
  },
  {
   "cell_type": "code",
   "execution_count": 2,
   "id": "ee6b3f0a",
   "metadata": {},
   "outputs": [
    {
     "data": {
      "application/javascript": [
       "\n",
       "            setTimeout(function() {\n",
       "                var nbb_cell_id = 2;\n",
       "                var nbb_unformatted_code = \"pipeline = Pipeline()\";\n",
       "                var nbb_formatted_code = \"pipeline = Pipeline()\";\n",
       "                var nbb_cells = Jupyter.notebook.get_cells();\n",
       "                for (var i = 0; i < nbb_cells.length; ++i) {\n",
       "                    if (nbb_cells[i].input_prompt_number == nbb_cell_id) {\n",
       "                        if (nbb_cells[i].get_text() == nbb_unformatted_code) {\n",
       "                             nbb_cells[i].set_text(nbb_formatted_code);\n",
       "                        }\n",
       "                        break;\n",
       "                    }\n",
       "                }\n",
       "            }, 500);\n",
       "            "
      ],
      "text/plain": [
       "<IPython.core.display.Javascript object>"
      ]
     },
     "metadata": {},
     "output_type": "display_data"
    }
   ],
   "source": [
    "pipeline = Pipeline()"
   ]
  },
  {
   "cell_type": "code",
   "execution_count": 3,
   "id": "0c285579",
   "metadata": {},
   "outputs": [
    {
     "data": {
      "application/javascript": [
       "\n",
       "            setTimeout(function() {\n",
       "                var nbb_cell_id = 3;\n",
       "                var nbb_unformatted_code = \"@pipeline.task()\\ndef file_to_json():\\n    with open(\\\"hn_stories_2014.json\\\") as f:\\n        stories = json.load(f)[\\\"stories\\\"]\\n    return stories\";\n",
       "                var nbb_formatted_code = \"@pipeline.task()\\ndef file_to_json():\\n    with open(\\\"hn_stories_2014.json\\\") as f:\\n        stories = json.load(f)[\\\"stories\\\"]\\n    return stories\";\n",
       "                var nbb_cells = Jupyter.notebook.get_cells();\n",
       "                for (var i = 0; i < nbb_cells.length; ++i) {\n",
       "                    if (nbb_cells[i].input_prompt_number == nbb_cell_id) {\n",
       "                        if (nbb_cells[i].get_text() == nbb_unformatted_code) {\n",
       "                             nbb_cells[i].set_text(nbb_formatted_code);\n",
       "                        }\n",
       "                        break;\n",
       "                    }\n",
       "                }\n",
       "            }, 500);\n",
       "            "
      ],
      "text/plain": [
       "<IPython.core.display.Javascript object>"
      ]
     },
     "metadata": {},
     "output_type": "display_data"
    }
   ],
   "source": [
    "@pipeline.task()\n",
    "def file_to_json():\n",
    "    with open(\"hn_stories_2014.json\") as f:\n",
    "        stories = json.load(f)[\"stories\"]\n",
    "    return stories"
   ]
  },
  {
   "cell_type": "code",
   "execution_count": 4,
   "id": "1e5d0d64",
   "metadata": {},
   "outputs": [
    {
     "data": {
      "application/javascript": [
       "\n",
       "            setTimeout(function() {\n",
       "                var nbb_cell_id = 4;\n",
       "                var nbb_unformatted_code = \"@pipeline.task(depends_on=file_to_json)\\ndef filter_stories(stories):\\n    return (\\n        story\\n        for story in stories\\n        if (story[\\\"points\\\"] > 50)\\n        and (story[\\\"num_comments\\\"] > 1)\\n        and not (story[\\\"title\\\"].startswith(\\\"Ask HN\\\"))\\n    )\";\n",
       "                var nbb_formatted_code = \"@pipeline.task(depends_on=file_to_json)\\ndef filter_stories(stories):\\n    return (\\n        story\\n        for story in stories\\n        if (story[\\\"points\\\"] > 50)\\n        and (story[\\\"num_comments\\\"] > 1)\\n        and not (story[\\\"title\\\"].startswith(\\\"Ask HN\\\"))\\n    )\";\n",
       "                var nbb_cells = Jupyter.notebook.get_cells();\n",
       "                for (var i = 0; i < nbb_cells.length; ++i) {\n",
       "                    if (nbb_cells[i].input_prompt_number == nbb_cell_id) {\n",
       "                        if (nbb_cells[i].get_text() == nbb_unformatted_code) {\n",
       "                             nbb_cells[i].set_text(nbb_formatted_code);\n",
       "                        }\n",
       "                        break;\n",
       "                    }\n",
       "                }\n",
       "            }, 500);\n",
       "            "
      ],
      "text/plain": [
       "<IPython.core.display.Javascript object>"
      ]
     },
     "metadata": {},
     "output_type": "display_data"
    }
   ],
   "source": [
    "@pipeline.task(depends_on=file_to_json)\n",
    "def filter_stories(stories):\n",
    "    return (\n",
    "        story\n",
    "        for story in stories\n",
    "        if (story[\"points\"] > 50)\n",
    "        and (story[\"num_comments\"] > 1)\n",
    "        and not (story[\"title\"].startswith(\"Ask HN\"))\n",
    "    )"
   ]
  },
  {
   "cell_type": "code",
   "execution_count": 5,
   "id": "003e64c0",
   "metadata": {},
   "outputs": [
    {
     "data": {
      "application/javascript": [
       "\n",
       "            setTimeout(function() {\n",
       "                var nbb_cell_id = 5;\n",
       "                var nbb_unformatted_code = \"@pipeline.task(depends_on=filter_stories)\\ndef json_to_csv(stories):\\n    lines = [\\n        [\\n            story[\\\"objectID\\\"],\\n            datetime.datetime.strptime(\\n                story[\\\"created_at\\\"], \\\"%Y-%m-%dT%H:%M:%SZ\\\"\\n            ),  # Sample: 2014-05-29T04:27:42Z\\n            story[\\\"url\\\"],\\n            story[\\\"points\\\"],\\n            story[\\\"title\\\"],\\n        ]\\n        for story in stories\\n    ]\\n    return build_csv(\\n        lines,\\n        header=[\\\"objectID\\\", \\\"created_at\\\", \\\"url\\\", \\\"points\\\", \\\"title\\\"],\\n        file=io.StringIO(),\\n    )\";\n",
       "                var nbb_formatted_code = \"@pipeline.task(depends_on=filter_stories)\\ndef json_to_csv(stories):\\n    lines = [\\n        [\\n            story[\\\"objectID\\\"],\\n            datetime.datetime.strptime(\\n                story[\\\"created_at\\\"], \\\"%Y-%m-%dT%H:%M:%SZ\\\"\\n            ),  # Sample: 2014-05-29T04:27:42Z\\n            story[\\\"url\\\"],\\n            story[\\\"points\\\"],\\n            story[\\\"title\\\"],\\n        ]\\n        for story in stories\\n    ]\\n    return build_csv(\\n        lines,\\n        header=[\\\"objectID\\\", \\\"created_at\\\", \\\"url\\\", \\\"points\\\", \\\"title\\\"],\\n        file=io.StringIO(),\\n    )\";\n",
       "                var nbb_cells = Jupyter.notebook.get_cells();\n",
       "                for (var i = 0; i < nbb_cells.length; ++i) {\n",
       "                    if (nbb_cells[i].input_prompt_number == nbb_cell_id) {\n",
       "                        if (nbb_cells[i].get_text() == nbb_unformatted_code) {\n",
       "                             nbb_cells[i].set_text(nbb_formatted_code);\n",
       "                        }\n",
       "                        break;\n",
       "                    }\n",
       "                }\n",
       "            }, 500);\n",
       "            "
      ],
      "text/plain": [
       "<IPython.core.display.Javascript object>"
      ]
     },
     "metadata": {},
     "output_type": "display_data"
    }
   ],
   "source": [
    "@pipeline.task(depends_on=filter_stories)\n",
    "def json_to_csv(stories):\n",
    "    lines = [\n",
    "        [\n",
    "            story[\"objectID\"],\n",
    "            datetime.datetime.strptime(\n",
    "                story[\"created_at\"], \"%Y-%m-%dT%H:%M:%SZ\"\n",
    "            ),  # Sample: 2014-05-29T04:27:42Z\n",
    "            story[\"url\"],\n",
    "            story[\"points\"],\n",
    "            story[\"title\"],\n",
    "        ]\n",
    "        for story in stories\n",
    "    ]\n",
    "    return build_csv(\n",
    "        lines,\n",
    "        header=[\"objectID\", \"created_at\", \"url\", \"points\", \"title\"],\n",
    "        file=io.StringIO(),\n",
    "    )"
   ]
  },
  {
   "cell_type": "code",
   "execution_count": 6,
   "id": "c6e4d58c",
   "metadata": {},
   "outputs": [
    {
     "data": {
      "application/javascript": [
       "\n",
       "            setTimeout(function() {\n",
       "                var nbb_cell_id = 6;\n",
       "                var nbb_unformatted_code = \"@pipeline.task(depends_on=json_to_csv)\\ndef extract_titles(csv_file):\\n    reader = csv.reader(csv_file)\\n    header = next(reader)\\n    idx = header.index(\\\"title\\\")\\n    return (story[idx] for story in reader)\";\n",
       "                var nbb_formatted_code = \"@pipeline.task(depends_on=json_to_csv)\\ndef extract_titles(csv_file):\\n    reader = csv.reader(csv_file)\\n    header = next(reader)\\n    idx = header.index(\\\"title\\\")\\n    return (story[idx] for story in reader)\";\n",
       "                var nbb_cells = Jupyter.notebook.get_cells();\n",
       "                for (var i = 0; i < nbb_cells.length; ++i) {\n",
       "                    if (nbb_cells[i].input_prompt_number == nbb_cell_id) {\n",
       "                        if (nbb_cells[i].get_text() == nbb_unformatted_code) {\n",
       "                             nbb_cells[i].set_text(nbb_formatted_code);\n",
       "                        }\n",
       "                        break;\n",
       "                    }\n",
       "                }\n",
       "            }, 500);\n",
       "            "
      ],
      "text/plain": [
       "<IPython.core.display.Javascript object>"
      ]
     },
     "metadata": {},
     "output_type": "display_data"
    }
   ],
   "source": [
    "@pipeline.task(depends_on=json_to_csv)\n",
    "def extract_titles(csv_file):\n",
    "    reader = csv.reader(csv_file)\n",
    "    header = next(reader)\n",
    "    idx = header.index(\"title\")\n",
    "    return (story[idx] for story in reader)"
   ]
  },
  {
   "cell_type": "code",
   "execution_count": 7,
   "id": "016c1001",
   "metadata": {},
   "outputs": [
    {
     "data": {
      "application/javascript": [
       "\n",
       "            setTimeout(function() {\n",
       "                var nbb_cell_id = 7;\n",
       "                var nbb_unformatted_code = \"@pipeline.task(depends_on=extract_titles)\\ndef clean_titles(titles):\\n    return (\\n        title.translate(title.maketrans(\\\"\\\", \\\"\\\", string.punctuation + \\\"\\u2018\\u2019\\u2013\\\")).lower()\\n        for title in titles\\n    )\";\n",
       "                var nbb_formatted_code = \"@pipeline.task(depends_on=extract_titles)\\ndef clean_titles(titles):\\n    return (\\n        title.translate(title.maketrans(\\\"\\\", \\\"\\\", string.punctuation + \\\"\\u2018\\u2019\\u2013\\\")).lower()\\n        for title in titles\\n    )\";\n",
       "                var nbb_cells = Jupyter.notebook.get_cells();\n",
       "                for (var i = 0; i < nbb_cells.length; ++i) {\n",
       "                    if (nbb_cells[i].input_prompt_number == nbb_cell_id) {\n",
       "                        if (nbb_cells[i].get_text() == nbb_unformatted_code) {\n",
       "                             nbb_cells[i].set_text(nbb_formatted_code);\n",
       "                        }\n",
       "                        break;\n",
       "                    }\n",
       "                }\n",
       "            }, 500);\n",
       "            "
      ],
      "text/plain": [
       "<IPython.core.display.Javascript object>"
      ]
     },
     "metadata": {},
     "output_type": "display_data"
    }
   ],
   "source": [
    "@pipeline.task(depends_on=extract_titles)\n",
    "def clean_titles(titles):\n",
    "    return (\n",
    "        title.translate(title.maketrans(\"\", \"\", string.punctuation + \"‘’–\")).lower()\n",
    "        for title in titles\n",
    "    )"
   ]
  },
  {
   "cell_type": "code",
   "execution_count": 8,
   "id": "58e04a52",
   "metadata": {},
   "outputs": [
    {
     "data": {
      "application/javascript": [
       "\n",
       "            setTimeout(function() {\n",
       "                var nbb_cell_id = 8;\n",
       "                var nbb_unformatted_code = \"@pipeline.task(depends_on=clean_titles)\\ndef word_freq_tbl_sorted(titles):\\n    counts = {}\\n    for title in titles:\\n        for word in title.split():\\n            if word not in counts:\\n                counts[word] = 0\\n            counts[word] += 1\\n    return sorted(counts.items(), key=lambda x: x[1], reverse=True)\";\n",
       "                var nbb_formatted_code = \"@pipeline.task(depends_on=clean_titles)\\ndef word_freq_tbl_sorted(titles):\\n    counts = {}\\n    for title in titles:\\n        for word in title.split():\\n            if word not in counts:\\n                counts[word] = 0\\n            counts[word] += 1\\n    return sorted(counts.items(), key=lambda x: x[1], reverse=True)\";\n",
       "                var nbb_cells = Jupyter.notebook.get_cells();\n",
       "                for (var i = 0; i < nbb_cells.length; ++i) {\n",
       "                    if (nbb_cells[i].input_prompt_number == nbb_cell_id) {\n",
       "                        if (nbb_cells[i].get_text() == nbb_unformatted_code) {\n",
       "                             nbb_cells[i].set_text(nbb_formatted_code);\n",
       "                        }\n",
       "                        break;\n",
       "                    }\n",
       "                }\n",
       "            }, 500);\n",
       "            "
      ],
      "text/plain": [
       "<IPython.core.display.Javascript object>"
      ]
     },
     "metadata": {},
     "output_type": "display_data"
    }
   ],
   "source": [
    "@pipeline.task(depends_on=clean_titles)\n",
    "def word_freq_tbl_sorted(titles):\n",
    "    counts = {}\n",
    "    for title in titles:\n",
    "        for word in title.split():\n",
    "            if word not in counts:\n",
    "                counts[word] = 0\n",
    "            counts[word] += 1\n",
    "    return sorted(counts.items(), key=lambda x: x[1], reverse=True)"
   ]
  },
  {
   "cell_type": "code",
   "execution_count": 9,
   "id": "3ea85d8c",
   "metadata": {},
   "outputs": [
    {
     "data": {
      "application/javascript": [
       "\n",
       "            setTimeout(function() {\n",
       "                var nbb_cell_id = 9;\n",
       "                var nbb_unformatted_code = \"@pipeline.task(depends_on=word_freq_tbl_sorted)\\ndef top_100_title_words(word_counts):\\n    return word_counts[:100]\";\n",
       "                var nbb_formatted_code = \"@pipeline.task(depends_on=word_freq_tbl_sorted)\\ndef top_100_title_words(word_counts):\\n    return word_counts[:100]\";\n",
       "                var nbb_cells = Jupyter.notebook.get_cells();\n",
       "                for (var i = 0; i < nbb_cells.length; ++i) {\n",
       "                    if (nbb_cells[i].input_prompt_number == nbb_cell_id) {\n",
       "                        if (nbb_cells[i].get_text() == nbb_unformatted_code) {\n",
       "                             nbb_cells[i].set_text(nbb_formatted_code);\n",
       "                        }\n",
       "                        break;\n",
       "                    }\n",
       "                }\n",
       "            }, 500);\n",
       "            "
      ],
      "text/plain": [
       "<IPython.core.display.Javascript object>"
      ]
     },
     "metadata": {},
     "output_type": "display_data"
    }
   ],
   "source": [
    "@pipeline.task(depends_on=word_freq_tbl_sorted)\n",
    "def top_100_title_words(word_counts):\n",
    "    return word_counts[:100]"
   ]
  },
  {
   "cell_type": "code",
   "execution_count": 10,
   "id": "d5dfed38",
   "metadata": {},
   "outputs": [
    {
     "data": {
      "text/plain": [
       "[('the', 1361),\n",
       " ('to', 936),\n",
       " ('a', 843),\n",
       " ('of', 783),\n",
       " ('for', 625),\n",
       " ('in', 567),\n",
       " ('and', 542),\n",
       " ('is', 409),\n",
       " ('on', 328),\n",
       " ('how', 268),\n",
       " ('with', 264),\n",
       " ('why', 212),\n",
       " ('hn', 210),\n",
       " ('show', 192),\n",
       " ('an', 192),\n",
       " ('your', 190),\n",
       " ('from', 187),\n",
       " ('new', 185),\n",
       " ('i', 175),\n",
       " ('google', 167),\n",
       " ('you', 157),\n",
       " ('by', 127),\n",
       " ('at', 125),\n",
       " ('not', 121),\n",
       " ('what', 121),\n",
       " ('are', 121),\n",
       " ('my', 120),\n",
       " ('as', 112),\n",
       " ('it', 111),\n",
       " ('that', 108),\n",
       " ('we', 106),\n",
       " ('bitcoin', 101),\n",
       " ('its', 93),\n",
       " ('open', 92),\n",
       " ('programming', 90),\n",
       " ('web', 89),\n",
       " ('data', 85),\n",
       " ('us', 85),\n",
       " ('be', 81),\n",
       " ('video', 79),\n",
       " ('python', 76),\n",
       " ('about', 75),\n",
       " ('code', 72),\n",
       " ('using', 71),\n",
       " ('facebook', 71),\n",
       " ('released', 71),\n",
       " ('now', 69),\n",
       " ('has', 67),\n",
       " ('2013', 65),\n",
       " ('javascript', 65),\n",
       " ('free', 64),\n",
       " ('source', 64),\n",
       " ('down', 63),\n",
       " ('internet', 63),\n",
       " ('game', 63),\n",
       " ('first', 62),\n",
       " ('go', 60),\n",
       " ('will', 59),\n",
       " ('microsoft', 59),\n",
       " ('one', 59),\n",
       " ('c', 59),\n",
       " ('linux', 58),\n",
       " ('when', 58),\n",
       " ('app', 57),\n",
       " ('all', 57),\n",
       " ('up', 57),\n",
       " ('can', 56),\n",
       " ('pdf', 55),\n",
       " ('work', 54),\n",
       " ('language', 54),\n",
       " ('dont', 54),\n",
       " ('more', 54),\n",
       " ('this', 54),\n",
       " ('have', 54),\n",
       " ('do', 52),\n",
       " ('software', 52),\n",
       " ('2014', 52),\n",
       " ('out', 52),\n",
       " ('startup', 51),\n",
       " ('apple', 50),\n",
       " ('use', 50),\n",
       " ('no', 50),\n",
       " ('make', 50),\n",
       " ('time', 48),\n",
       " ('yc', 48),\n",
       " ('security', 48),\n",
       " ('after', 47),\n",
       " ('than', 47),\n",
       " ('or', 46),\n",
       " ('our', 45),\n",
       " ('get', 45),\n",
       " ('nsa', 45),\n",
       " ('into', 45),\n",
       " ('github', 45),\n",
       " ('system', 44),\n",
       " ('over', 44),\n",
       " ('was', 44),\n",
       " ('windows', 44),\n",
       " ('but', 42),\n",
       " ('1', 41)]"
      ]
     },
     "execution_count": 10,
     "metadata": {},
     "output_type": "execute_result"
    },
    {
     "data": {
      "application/javascript": [
       "\n",
       "            setTimeout(function() {\n",
       "                var nbb_cell_id = 10;\n",
       "                var nbb_unformatted_code = \"results = pipeline.run()\\nlist(results.items())[6][1]\";\n",
       "                var nbb_formatted_code = \"results = pipeline.run()\\nlist(results.items())[6][1]\";\n",
       "                var nbb_cells = Jupyter.notebook.get_cells();\n",
       "                for (var i = 0; i < nbb_cells.length; ++i) {\n",
       "                    if (nbb_cells[i].input_prompt_number == nbb_cell_id) {\n",
       "                        if (nbb_cells[i].get_text() == nbb_unformatted_code) {\n",
       "                             nbb_cells[i].set_text(nbb_formatted_code);\n",
       "                        }\n",
       "                        break;\n",
       "                    }\n",
       "                }\n",
       "            }, 500);\n",
       "            "
      ],
      "text/plain": [
       "<IPython.core.display.Javascript object>"
      ]
     },
     "metadata": {},
     "output_type": "display_data"
    }
   ],
   "source": [
    "results = pipeline.run()\n",
    "list(results.items())[6][1]"
   ]
  },
  {
   "cell_type": "code",
   "execution_count": 11,
   "id": "cbd43512",
   "metadata": {},
   "outputs": [
    {
     "data": {
      "application/javascript": [
       "\n",
       "            setTimeout(function() {\n",
       "                var nbb_cell_id = 11;\n",
       "                var nbb_unformatted_code = \"# next(generator)\";\n",
       "                var nbb_formatted_code = \"# next(generator)\";\n",
       "                var nbb_cells = Jupyter.notebook.get_cells();\n",
       "                for (var i = 0; i < nbb_cells.length; ++i) {\n",
       "                    if (nbb_cells[i].input_prompt_number == nbb_cell_id) {\n",
       "                        if (nbb_cells[i].get_text() == nbb_unformatted_code) {\n",
       "                             nbb_cells[i].set_text(nbb_formatted_code);\n",
       "                        }\n",
       "                        break;\n",
       "                    }\n",
       "                }\n",
       "            }, 500);\n",
       "            "
      ],
      "text/plain": [
       "<IPython.core.display.Javascript object>"
      ]
     },
     "metadata": {},
     "output_type": "display_data"
    }
   ],
   "source": [
    "# next(generator)"
   ]
  },
  {
   "cell_type": "code",
   "execution_count": 12,
   "id": "86dd699b",
   "metadata": {},
   "outputs": [
    {
     "data": {
      "text/plain": [
       "<pipeline.Pipeline at 0x20c0a9d0c70>"
      ]
     },
     "execution_count": 12,
     "metadata": {},
     "output_type": "execute_result"
    },
    {
     "data": {
      "application/javascript": [
       "\n",
       "            setTimeout(function() {\n",
       "                var nbb_cell_id = 12;\n",
       "                var nbb_unformatted_code = \"pipeline\";\n",
       "                var nbb_formatted_code = \"pipeline\";\n",
       "                var nbb_cells = Jupyter.notebook.get_cells();\n",
       "                for (var i = 0; i < nbb_cells.length; ++i) {\n",
       "                    if (nbb_cells[i].input_prompt_number == nbb_cell_id) {\n",
       "                        if (nbb_cells[i].get_text() == nbb_unformatted_code) {\n",
       "                             nbb_cells[i].set_text(nbb_formatted_code);\n",
       "                        }\n",
       "                        break;\n",
       "                    }\n",
       "                }\n",
       "            }, 500);\n",
       "            "
      ],
      "text/plain": [
       "<IPython.core.display.Javascript object>"
      ]
     },
     "metadata": {},
     "output_type": "display_data"
    }
   ],
   "source": [
    "pipeline"
   ]
  },
  {
   "cell_type": "code",
   "execution_count": 13,
   "id": "dfd49c26",
   "metadata": {},
   "outputs": [
    {
     "data": {
      "text/plain": [
       "{<function __main__.file_to_json()>: [<function __main__.filter_stories(stories)>],\n",
       " <function __main__.filter_stories(stories)>: [<function __main__.json_to_csv(stories)>],\n",
       " <function __main__.json_to_csv(stories)>: [<function __main__.extract_titles(csv_file)>],\n",
       " <function __main__.extract_titles(csv_file)>: [<function __main__.clean_titles(titles)>],\n",
       " <function __main__.clean_titles(titles)>: [<function __main__.word_freq_tbl_sorted(titles)>],\n",
       " <function __main__.word_freq_tbl_sorted(titles)>: [<function __main__.top_100_title_words(word_counts)>],\n",
       " <function __main__.top_100_title_words(word_counts)>: []}"
      ]
     },
     "execution_count": 13,
     "metadata": {},
     "output_type": "execute_result"
    },
    {
     "data": {
      "application/javascript": [
       "\n",
       "            setTimeout(function() {\n",
       "                var nbb_cell_id = 13;\n",
       "                var nbb_unformatted_code = \"pipeline.tasks.graph\";\n",
       "                var nbb_formatted_code = \"pipeline.tasks.graph\";\n",
       "                var nbb_cells = Jupyter.notebook.get_cells();\n",
       "                for (var i = 0; i < nbb_cells.length; ++i) {\n",
       "                    if (nbb_cells[i].input_prompt_number == nbb_cell_id) {\n",
       "                        if (nbb_cells[i].get_text() == nbb_unformatted_code) {\n",
       "                             nbb_cells[i].set_text(nbb_formatted_code);\n",
       "                        }\n",
       "                        break;\n",
       "                    }\n",
       "                }\n",
       "            }, 500);\n",
       "            "
      ],
      "text/plain": [
       "<IPython.core.display.Javascript object>"
      ]
     },
     "metadata": {},
     "output_type": "display_data"
    }
   ],
   "source": [
    "pipeline.tasks.graph"
   ]
  },
  {
   "cell_type": "code",
   "execution_count": 14,
   "id": "b553be34",
   "metadata": {},
   "outputs": [
    {
     "data": {
      "text/plain": [
       "'!\"#$%&\\'()*+,-./:;<=>?@[\\\\]^_`{|}~'"
      ]
     },
     "execution_count": 14,
     "metadata": {},
     "output_type": "execute_result"
    },
    {
     "data": {
      "application/javascript": [
       "\n",
       "            setTimeout(function() {\n",
       "                var nbb_cell_id = 14;\n",
       "                var nbb_unformatted_code = \"string.punctuation\";\n",
       "                var nbb_formatted_code = \"string.punctuation\";\n",
       "                var nbb_cells = Jupyter.notebook.get_cells();\n",
       "                for (var i = 0; i < nbb_cells.length; ++i) {\n",
       "                    if (nbb_cells[i].input_prompt_number == nbb_cell_id) {\n",
       "                        if (nbb_cells[i].get_text() == nbb_unformatted_code) {\n",
       "                             nbb_cells[i].set_text(nbb_formatted_code);\n",
       "                        }\n",
       "                        break;\n",
       "                    }\n",
       "                }\n",
       "            }, 500);\n",
       "            "
      ],
      "text/plain": [
       "<IPython.core.display.Javascript object>"
      ]
     },
     "metadata": {},
     "output_type": "display_data"
    }
   ],
   "source": [
    "string.punctuation"
   ]
  },
  {
   "cell_type": "code",
   "execution_count": 15,
   "id": "b16b6e38",
   "metadata": {},
   "outputs": [
    {
     "data": {
      "application/javascript": [
       "\n",
       "            setTimeout(function() {\n",
       "                var nbb_cell_id = 15;\n",
       "                var nbb_unformatted_code = \"x = \\\"show hn developeragents  a newsletter to promote remote developers\\\"\";\n",
       "                var nbb_formatted_code = \"x = \\\"show hn developeragents  a newsletter to promote remote developers\\\"\";\n",
       "                var nbb_cells = Jupyter.notebook.get_cells();\n",
       "                for (var i = 0; i < nbb_cells.length; ++i) {\n",
       "                    if (nbb_cells[i].input_prompt_number == nbb_cell_id) {\n",
       "                        if (nbb_cells[i].get_text() == nbb_unformatted_code) {\n",
       "                             nbb_cells[i].set_text(nbb_formatted_code);\n",
       "                        }\n",
       "                        break;\n",
       "                    }\n",
       "                }\n",
       "            }, 500);\n",
       "            "
      ],
      "text/plain": [
       "<IPython.core.display.Javascript object>"
      ]
     },
     "metadata": {},
     "output_type": "display_data"
    }
   ],
   "source": [
    "x = \"show hn developeragents  a newsletter to promote remote developers\""
   ]
  },
  {
   "cell_type": "code",
   "execution_count": 16,
   "id": "ab72df53",
   "metadata": {},
   "outputs": [
    {
     "data": {
      "text/plain": [
       "['show',\n",
       " 'hn',\n",
       " 'developeragents',\n",
       " 'a',\n",
       " 'newsletter',\n",
       " 'to',\n",
       " 'promote',\n",
       " 'remote',\n",
       " 'developers']"
      ]
     },
     "execution_count": 16,
     "metadata": {},
     "output_type": "execute_result"
    },
    {
     "data": {
      "application/javascript": [
       "\n",
       "            setTimeout(function() {\n",
       "                var nbb_cell_id = 16;\n",
       "                var nbb_unformatted_code = \"x.split()\";\n",
       "                var nbb_formatted_code = \"x.split()\";\n",
       "                var nbb_cells = Jupyter.notebook.get_cells();\n",
       "                for (var i = 0; i < nbb_cells.length; ++i) {\n",
       "                    if (nbb_cells[i].input_prompt_number == nbb_cell_id) {\n",
       "                        if (nbb_cells[i].get_text() == nbb_unformatted_code) {\n",
       "                             nbb_cells[i].set_text(nbb_formatted_code);\n",
       "                        }\n",
       "                        break;\n",
       "                    }\n",
       "                }\n",
       "            }, 500);\n",
       "            "
      ],
      "text/plain": [
       "<IPython.core.display.Javascript object>"
      ]
     },
     "metadata": {},
     "output_type": "display_data"
    }
   ],
   "source": [
    "x.split()"
   ]
  },
  {
   "cell_type": "code",
   "execution_count": null,
   "id": "be5105e2",
   "metadata": {},
   "outputs": [],
   "source": []
  }
 ],
 "metadata": {
  "kernelspec": {
   "display_name": "Python 3 (ipykernel)",
   "language": "python",
   "name": "python3"
  },
  "language_info": {
   "codemirror_mode": {
    "name": "ipython",
    "version": 3
   },
   "file_extension": ".py",
   "mimetype": "text/x-python",
   "name": "python",
   "nbconvert_exporter": "python",
   "pygments_lexer": "ipython3",
   "version": "3.9.12"
  }
 },
 "nbformat": 4,
 "nbformat_minor": 5
}
